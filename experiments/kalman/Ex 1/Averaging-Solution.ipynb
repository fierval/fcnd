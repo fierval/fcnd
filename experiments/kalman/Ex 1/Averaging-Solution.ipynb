{
 "cells": [
  {
   "cell_type": "markdown",
   "metadata": {},
   "source": [
    "# Controlling With Noisy Measurements\n",
    "\n",
    "In this exercise, we'll control the coaxial drone using estimated measurements obtained by sensors. \n",
    "For convenience, we will designate the $x_t$ the true state vector of the drone which we should like to know. $z_t$ the observation of measurement of the certain parameters (in this case altitude). $\\hat{x}_t$ estimated for the state which we would like to know. "
   ]
  },
  {
   "cell_type": "code",
   "execution_count": 1,
   "metadata": {
    "collapsed": true
   },
   "outputs": [],
   "source": [
    "%matplotlib inline \n",
    "%config InlineBackend.figure_format = 'retina'\n",
    "\n",
    "import numpy as np \n",
    "import math\n",
    "import matplotlib.pyplot as plt\n",
    "import matplotlib.pylab as pylab\n",
    "import jdc\n",
    "from ipywidgets import interactive\n",
    "from CoaxialDrone import CoaxialCopter\n",
    "from PIDcontroller import PIDController_with_ff\n",
    "from PathGeneration import flight_path\n",
    "from DronewithPIDControllerParameters import DronewithPID\n",
    "\n",
    "pylab.rcParams['figure.figsize'] = 10, 10"
   ]
  },
  {
   "cell_type": "code",
   "execution_count": null,
   "metadata": {
    "collapsed": true
   },
   "outputs": [],
   "source": [
    "pylab.rcParams['figure.figsize'] = 10, 10"
   ]
  },
  {
   "cell_type": "markdown",
   "metadata": {},
   "source": [
    "The IMU in this notebook estimates the altitude with a weighted average defined as:\n",
    "\n",
    "$$\n",
    "\\hat{z}_{t} = \\alpha \\hat{z}_{t-1} + (1-\\alpha)z_t\n",
    "$$\n",
    "\n",
    "**NOTE:** For this exercise we do not modify the velocity as it is obtained by integrating the acceleration over time and we do not measure it directly. "
   ]
  },
  {
   "cell_type": "code",
   "execution_count": 2,
   "metadata": {
    "collapsed": true
   },
   "outputs": [],
   "source": [
    "class IMU:\n",
    "    def __init__(self,\n",
    "                 z_hat, # initial estimated value\n",
    "                 alpha  # alpha value how fast to update the estimated value\n",
    "                ):\n",
    "        '''\n",
    "        Initializing the IMU object with initial altitude estimation and the alpha value for the exponential averaging. \n",
    "        '''\n",
    "        self.z_hat = z_hat\n",
    "        self.alpha = alpha\n",
    "        \n",
    "    def measure(self, \n",
    "                z,                 # True altitude\n",
    "                sigma = 0.01       # Error sigma value \n",
    "               ):\n",
    "        '''\n",
    "        Simulating the sensor measurement\n",
    "        '''\n",
    "        # TODO: Simulate the measurement of the altitude by adding the error associated\n",
    "        # with the measurement to the true method.\n",
    "        return z + np.random.normal(0.0, sigma)\n",
    "\n",
    "\n",
    "    def estimate(self, z_t):\n",
    "        '''\n",
    "        Estimates the drone altitude using the weighted average method. \n",
    "        '''\n",
    "        # TODO: Estimate the drone altitude using the weighted average method. \n",
    "        self.z_hat = (1 - self.alpha) * z_t + self.alpha * self.z_hat\n",
    "        return self.z_hat"
   ]
  },
  {
   "cell_type": "markdown",
   "metadata": {},
   "source": [
    "Let us consider a case when at $t=0$ we will ask drone in change the altitude by 1 meter from the stationary position represented as $z=0$ and $\\dot{z}=0$. Thus we will generate the desired path with just $z=-1$ for all time $t$. "
   ]
  },
  {
   "cell_type": "code",
   "execution_count": 3,
   "metadata": {
    "collapsed": true
   },
   "outputs": [],
   "source": [
    "total_time = 10.0   # Total Flight time \n",
    "dt = 0.01           # A time interval between measurements \n",
    "\n",
    "t, z_path, z_dot_path, z_dot_dot_path =  flight_path(total_time, dt,'constant' )"
   ]
  },
  {
   "cell_type": "markdown",
   "metadata": {},
   "source": [
    "Let's compare the path executed by the drone when we are using the measured altitude to control the controller instead of the actual value which we assumed that was magically given to us."
   ]
  },
  {
   "cell_type": "code",
   "execution_count": 4,
   "metadata": {
    "collapsed": true
   },
   "outputs": [],
   "source": [
    "FlyingDrone = DronewithPID(z_path, z_dot_path, z_dot_dot_path, t, dt, IMU)"
   ]
  },
  {
   "cell_type": "code",
   "execution_count": 5,
   "metadata": {},
   "outputs": [
    {
     "data": {
      "application/vnd.jupyter.widget-view+json": {
       "model_id": "1546619c4a1449948d81dacc80effa64",
       "version_major": 2,
       "version_minor": 0
      },
      "text/plain": [
       "A Jupyter Widget"
      ]
     },
     "metadata": {},
     "output_type": "display_data"
    }
   ],
   "source": [
    "interactive_plot = interactive(FlyingDrone.PID_controler_with_measured_values, \n",
    "                               k_p=(5.0, 35.0, 1),\n",
    "                               k_d=(0.0, 10, 0.5), \n",
    "                               k_i=(0.0, 10, 0.5), \n",
    "                               mass_err =(0.7, 1.31, 0.01),\n",
    "                               sigma=(0.0, 0.1, 0.001))\n",
    "output = interactive_plot.children[-1]\n",
    "output.layout.height = '800px'\n",
    "interactive_plot"
   ]
  },
  {
   "cell_type": "markdown",
   "metadata": {},
   "source": [
    "In this section, we will use the estimated value of the altitude based on the averaging to control the drone instead of relying only on the last measurement value."
   ]
  },
  {
   "cell_type": "code",
   "execution_count": 6,
   "metadata": {},
   "outputs": [
    {
     "data": {
      "application/vnd.jupyter.widget-view+json": {
       "model_id": "c89164e94c8c4570bc76d4f231581eee",
       "version_major": 2,
       "version_minor": 0
      },
      "text/plain": [
       "A Jupyter Widget"
      ]
     },
     "metadata": {},
     "output_type": "display_data"
    }
   ],
   "source": [
    "interactive_plot = interactive(FlyingDrone.PID_controler_with_estimated_values, \n",
    "                               k_p=(5.0, 35.0, 1),\n",
    "                               k_d=(0.0, 10, 0.5), \n",
    "                               k_i=(0.0, 10, 0.5), \n",
    "                               mass_err =(0.7, 1.31, 0.01),\n",
    "                               sigma = (0.0, 0.1, 0.001),\n",
    "                               alpha = (0.51, 0.99, 0.01))\n",
    "output = interactive_plot.children[-1]\n",
    "output.layout.height = '800px'\n",
    "interactive_plot"
   ]
  },
  {
   "cell_type": "markdown",
   "metadata": {},
   "source": [
    "# Questions:\n",
    "---\n",
    "* Is the magnitude of the steady-state error higher or lower when using the weighted average compared to the using the directly measured values?\n",
    "* Does the drone take shorter or longer time to converge at the desired altitude using the weighted averaging for altitude estimation relative to using the direct altitude measurement?\n",
    "---"
   ]
  },
  {
   "cell_type": "code",
   "execution_count": null,
   "metadata": {
    "collapsed": true
   },
   "outputs": [],
   "source": []
  }
 ],
 "metadata": {
  "kernelspec": {
   "display_name": "Python 3",
   "language": "python",
   "name": "python3"
  },
  "language_info": {
   "codemirror_mode": {
    "name": "ipython",
    "version": 3
   },
   "file_extension": ".py",
   "mimetype": "text/x-python",
   "name": "python",
   "nbconvert_exporter": "python",
   "pygments_lexer": "ipython3",
   "version": "3.6.3"
  }
 },
 "nbformat": 4,
 "nbformat_minor": 2
}
