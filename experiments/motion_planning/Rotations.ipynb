{
 "cells": [
  {
   "cell_type": "markdown",
   "metadata": {},
   "source": [
    "## Euler Rotations\n",
    "\n",
    "In this notebook you'll explore Euler rotations and get a feel for why the order of rotations matters.\n",
    "\n",
    "Euler rotations as we define them in this program are counterclockwise about the axes of the vehicle body frame, where:\n",
    "\n",
    "- *Roll* - $\\phi$ is about the x-axis\n",
    "- *Pitch* - $\\theta$ is about the y-axis\n",
    "- *Yaw* - $\\psi$ is about the z-axis\n",
    "\n",
    "As you'll see the same set of rotation transformations, applied in a different order can produce a very different final result!"
   ]
  },
  {
   "cell_type": "code",
   "execution_count": 9,
   "metadata": {},
   "outputs": [],
   "source": [
    "import matplotlib.pyplot as plt \n",
    "from mpl_toolkits.mplot3d import Axes3D\n",
    "\n",
    "import numpy as np\n",
    "from enum import Enum\n",
    "import math\n",
    "\n",
    "%matplotlib inline\n",
    "np.set_printoptions(precision=3, suppress=True)"
   ]
  },
  {
   "cell_type": "code",
   "execution_count": 2,
   "metadata": {},
   "outputs": [],
   "source": [
    "plt.rcParams[\"figure.figsize\"] = [12, 12]"
   ]
  },
  {
   "cell_type": "code",
   "execution_count": 49,
   "metadata": {},
   "outputs": [],
   "source": [
    "class Rotation(Enum):\n",
    "    ROLL = 0\n",
    "    PITCH = 1\n",
    "    YAW = 2  \n",
    "\n",
    "\n",
    "class EulerRotation:\n",
    "    \n",
    "    def __init__(self, rotations):\n",
    "        \"\"\"\n",
    "        `rotations` is a list of 2-element tuples where the\n",
    "        first element is the rotation kind and the second element\n",
    "        is angle in degrees.\n",
    "        \n",
    "        Ex:\n",
    "        \n",
    "            [(Rotation.ROLL, 45), (Rotation.YAW, 32), (Rotation.PITCH, 55)]\n",
    "            \n",
    "        \"\"\"\n",
    "        self._rotations = rotations.copy()\n",
    "        # intrinsic rotations in the oppostie order\n",
    "        self._rotations.reverse() \n",
    "        self._rotation_map = {Rotation.ROLL : self.roll, Rotation.PITCH : self.pitch, Rotation.YAW : self.yaw}\n",
    "        print(self._rotations)\n",
    "        \n",
    "    def sin_cosin(self, angle):\n",
    "        return (np.sin(math.radians(angle)), np.cos(math.radians(angle)))\n",
    "    \n",
    "    def roll(self, phi):\n",
    "        s, c = self.sin_cosin(phi)\n",
    "        matrix = np.array([1, 0, 0, 0, c, -s, 0, s, c]).reshape(3, -1)\n",
    "        return matrix\n",
    "    \n",
    "    def pitch(self, theta):\n",
    "        \"\"\"Returns the rotation matrix along the pitch axis\"\"\"\n",
    "        s, c = self.sin_cosin(theta)\n",
    "        matrix = np.array([c, 0, s, 0, 1, 0, -s, 0, c]).reshape(3, -1)\n",
    "        return matrix\n",
    "\n",
    "    def yaw(self, psi):\n",
    "        \"\"\"Returns the rotation matrix along the yaw axis\"\"\"\n",
    "        s, c = self.sin_cosin(psi)\n",
    "        matrix = np.array([c, -s, 0, s, c, 0, 0, 0, 1]).reshape(3, -1)\n",
    "        return matrix\n",
    "\n",
    "    def rotate(self):\n",
    "        \"\"\"Applies the rotations in sequential order\"\"\"\n",
    "        \n",
    "        t = np.eye(3)\n",
    "        for rot, deg in self._rotations:\n",
    "            print(rot, deg)\n",
    "            t = t @ self._rotation_map[rot](deg)\n",
    "        \n",
    "        return t"
   ]
  },
  {
   "cell_type": "markdown",
   "metadata": {},
   "source": [
    "Below you'll form a sequence of rotations. The rotation matrix `R` is the mapping of performing the rotations in sequential order. Multiplying a vector by `R` will perform the rotations on that vector."
   ]
  },
  {
   "cell_type": "code",
   "execution_count": 50,
   "metadata": {},
   "outputs": [
    {
     "data": {
      "text/plain": [
       "[(<Rotation.ROLL: 0>, 25), (<Rotation.PITCH: 1>, 75), (<Rotation.YAW: 2>, 90)]"
      ]
     },
     "execution_count": 50,
     "metadata": {},
     "output_type": "execute_result"
    }
   ],
   "source": [
    "# Test your code by passing in some rotation values\n",
    "rotations = [\n",
    "    (Rotation.ROLL, 25),\n",
    "    (Rotation.PITCH, 75),\n",
    "    (Rotation.YAW, 90),\n",
    "]\n",
    "rotations"
   ]
  },
  {
   "cell_type": "code",
   "execution_count": 51,
   "metadata": {},
   "outputs": [
    {
     "name": "stdout",
     "output_type": "stream",
     "text": [
      "[(<Rotation.YAW: 2>, 90), (<Rotation.PITCH: 1>, 75), (<Rotation.ROLL: 0>, 25)]\n",
      "Rotation.YAW 90\n",
      "Rotation.PITCH 75\n",
      "Rotation.ROLL 25\n",
      "Rotation matrix ...\n",
      "[[ 0.    -0.906  0.423]\n",
      " [ 0.259  0.408  0.875]\n",
      " [-0.966  0.109  0.235]]\n"
     ]
    }
   ],
   "source": [
    "er = EulerRotation(rotations)\n",
    "R = er.rotate()\n",
    "print('Rotation matrix ...')\n",
    "print(R)\n",
    "# Should print\n",
    "# Rotation matrix ...\n",
    "# [[ 0.    -0.906  0.423]\n",
    "#  [ 0.259  0.408  0.875]\n",
    "#  [-0.966  0.109  0.235]]"
   ]
  },
  {
   "cell_type": "markdown",
   "metadata": {},
   "source": [
    "Go back and change the order of the rotations, you should get back a rotation matrix with different values."
   ]
  },
  {
   "cell_type": "markdown",
   "metadata": {},
   "source": [
    "### Same Rotations, Different Order\n",
    "\n",
    "Now calculate three different rotations matrices. They should stem from the same set of Euler rotations, just in differing order."
   ]
  },
  {
   "cell_type": "code",
   "execution_count": 53,
   "metadata": {},
   "outputs": [
    {
     "name": "stdout",
     "output_type": "stream",
     "text": [
      "[(<Rotation.YAW: 2>, 90), (<Rotation.ROLL: 0>, 25), (<Rotation.PITCH: 1>, 75)]\n",
      "Rotation.YAW 90\n",
      "Rotation.ROLL 25\n",
      "Rotation.PITCH 75\n",
      "[(<Rotation.ROLL: 0>, 25), (<Rotation.YAW: 2>, 90), (<Rotation.PITCH: 1>, 75)]\n",
      "Rotation.ROLL 25\n",
      "Rotation.YAW 90\n",
      "Rotation.PITCH 75\n",
      "[(<Rotation.PITCH: 1>, 75), (<Rotation.ROLL: 0>, 25), (<Rotation.YAW: 2>, 90)]\n",
      "Rotation.PITCH 75\n",
      "Rotation.ROLL 25\n",
      "Rotation.YAW 90\n"
     ]
    }
   ],
   "source": [
    "rot1 = [rotations[1], rotations[0], rotations[2]]\n",
    "rot2 = [rotations[1], rotations[2], rotations[0]]\n",
    "rot3 = [rotations[2], rotations[0], rotations[1]]\n",
    "# TODO: calculate 3 rotation matrices.\n",
    "R1 = EulerRotation(rot1).rotate()\n",
    "R2 = EulerRotation(rot2).rotate()\n",
    "R3 = EulerRotation(rot3).rotate()"
   ]
  },
  {
   "cell_type": "markdown",
   "metadata": {},
   "source": [
    "### Seeing is Believing"
   ]
  },
  {
   "cell_type": "markdown",
   "metadata": {},
   "source": [
    "It's clear the three rotation matrices are different, but, in order to get an deeper understanding let's plot the impact of the rotations."
   ]
  },
  {
   "cell_type": "code",
   "execution_count": 54,
   "metadata": {},
   "outputs": [],
   "source": [
    "# unit vector along x-axis\n",
    "v = np.array([1, 0, 0])"
   ]
  },
  {
   "cell_type": "markdown",
   "metadata": {},
   "source": [
    "Apply the rotations to `v`. Feel free to change the values of this input vector."
   ]
  },
  {
   "cell_type": "code",
   "execution_count": 55,
   "metadata": {},
   "outputs": [],
   "source": [
    "# TODO: calculate the new rotated versions of `v`.\n",
    "rv1 = R1 @ v\n",
    "rv2 = R2 @ v\n",
    "rv3 = R3 @ v\n",
    "# rv = np.dot(R, v)"
   ]
  },
  {
   "cell_type": "markdown",
   "metadata": {},
   "source": [
    "Plotting time ..."
   ]
  },
  {
   "cell_type": "code",
   "execution_count": 56,
   "metadata": {},
   "outputs": [
    {
     "data": {
      "image/png": "[encoded data removed]",
      "text/plain": [
       "<matplotlib.figure.Figure at 0x1d9de237da0>"
      ]
     },
     "metadata": {},
     "output_type": "display_data"
    }
   ],
   "source": [
    "fig = plt.figure()\n",
    "ax = fig.gca(projection='3d')\n",
    "\n",
    "# axes (shown in black)\n",
    "ax.quiver(0, 0, 0, 1.5, 0, 0, color='black', arrow_length_ratio=0.15)\n",
    "ax.quiver(0, 0, 0, 0, 1.5, 0, color='black', arrow_length_ratio=0.15)\n",
    "ax.quiver(0, 0, 0, 0, 0, 1.5, color='black', arrow_length_ratio=0.15)\n",
    "\n",
    "\n",
    "# Original Vector (shown in blue)\n",
    "ax.quiver(0, 0, 0, v[0], v[1], v[2], color='blue', arrow_length_ratio=0.15)\n",
    "\n",
    "# Rotated Vectors (shown in red)\n",
    "ax.quiver(0, 0, 0, rv1[0], rv1[1], rv1[2], color='red', arrow_length_ratio=0.15)\n",
    "ax.quiver(0, 0, 0, rv2[0], rv2[1], rv2[2], color='purple', arrow_length_ratio=0.15)\n",
    "ax.quiver(0, 0, 0, rv3[0], rv3[1], rv3[2], color='green', arrow_length_ratio=0.15)\n",
    "\n",
    "ax.set_xlim3d(-1, 1)\n",
    "ax.set_ylim3d(1, -1)\n",
    "ax.set_zlim3d(1, -1)\n",
    "\n",
    "ax.set_xlabel('X')\n",
    "ax.set_ylabel('Y')\n",
    "ax.set_zlabel('Z')\n",
    "\n",
    "plt.show()"
   ]
  },
  {
   "cell_type": "markdown",
   "metadata": {},
   "source": [
    "### Gimbal Lock\n",
    "To demonstrate gimbal lock try starting a series of rotations with a pitch of +/- 90 degrees, then see what happens when you try to yaw. Try the yaw first and see what happens!"
   ]
  },
  {
   "cell_type": "markdown",
   "metadata": {},
   "source": [
    "[solution](/notebooks/Rotations-Solution.ipynb)"
   ]
  },
  {
   "cell_type": "code",
   "execution_count": 85,
   "metadata": {},
   "outputs": [
    {
     "data": {
      "text/plain": [
       "(3,)"
      ]
     },
     "execution_count": 85,
     "metadata": {},
     "output_type": "execute_result"
    }
   ],
   "source": [
    "p1 = np.array([1, 2])\n",
    "p2 = np.array([2, 3])\n",
    "p3 = np.array([3, 4])\n",
    "\n",
    "p = np.expand_dims(p, axis=0)\n",
    "p = np.vstack([p1, p2, p3])\n",
    "np.array([1., 1., 1.]).T.shape"
   ]
  },
  {
   "cell_type": "code",
   "execution_count": 84,
   "metadata": {},
   "outputs": [
    {
     "ename": "ValueError",
     "evalue": "all the input arrays must have same number of dimensions",
     "output_type": "error",
     "traceback": [
      "\u001b[1;31m---------------------------------------------------------------------------\u001b[0m",
      "\u001b[1;31mValueError\u001b[0m                                Traceback (most recent call last)",
      "\u001b[1;32m<ipython-input-84-a6d9d22e7645>\u001b[0m in \u001b[0;36m<module>\u001b[1;34m()\u001b[0m\n\u001b[0;32m      5\u001b[0m \u001b[0mp\u001b[0m \u001b[1;33m=\u001b[0m \u001b[0mnp\u001b[0m\u001b[1;33m.\u001b[0m\u001b[0mexpand_dims\u001b[0m\u001b[1;33m(\u001b[0m\u001b[0mp\u001b[0m\u001b[1;33m,\u001b[0m \u001b[0maxis\u001b[0m\u001b[1;33m=\u001b[0m\u001b[1;36m0\u001b[0m\u001b[1;33m)\u001b[0m\u001b[1;33m\u001b[0m\u001b[0m\n\u001b[0;32m      6\u001b[0m \u001b[0mp\u001b[0m \u001b[1;33m=\u001b[0m \u001b[0mnp\u001b[0m\u001b[1;33m.\u001b[0m\u001b[0mvstack\u001b[0m\u001b[1;33m(\u001b[0m\u001b[1;33m[\u001b[0m\u001b[0mp1\u001b[0m\u001b[1;33m,\u001b[0m \u001b[0mp2\u001b[0m\u001b[1;33m,\u001b[0m \u001b[0mp3\u001b[0m\u001b[1;33m]\u001b[0m\u001b[1;33m)\u001b[0m\u001b[1;33m\u001b[0m\u001b[0m\n\u001b[1;32m----> 7\u001b[1;33m \u001b[0mnp\u001b[0m\u001b[1;33m.\u001b[0m\u001b[0mconcatenate\u001b[0m\u001b[1;33m(\u001b[0m\u001b[1;33m[\u001b[0m\u001b[0mp\u001b[0m\u001b[1;33m,\u001b[0m \u001b[0mnp\u001b[0m\u001b[1;33m.\u001b[0m\u001b[0marray\u001b[0m\u001b[1;33m(\u001b[0m\u001b[1;33m[\u001b[0m\u001b[1;36m1.\u001b[0m\u001b[1;33m,\u001b[0m \u001b[1;36m1.\u001b[0m\u001b[1;33m,\u001b[0m \u001b[1;36m1.\u001b[0m\u001b[1;33m]\u001b[0m\u001b[1;33m)\u001b[0m\u001b[1;33m.\u001b[0m\u001b[0mT\u001b[0m\u001b[1;33m]\u001b[0m\u001b[1;33m,\u001b[0m \u001b[0maxis\u001b[0m\u001b[1;33m=\u001b[0m\u001b[1;36m1\u001b[0m\u001b[1;33m)\u001b[0m\u001b[1;33m\u001b[0m\u001b[0m\n\u001b[0m",
      "\u001b[1;31mValueError\u001b[0m: all the input arrays must have same number of dimensions"
     ]
    }
   ],
   "source": [
    "np.concatenate([p, np.array([1., 1., 1.]).T], axis=1)"
   ]
  }
 ],
 "metadata": {
  "kernelspec": {
   "display_name": "Python 3",
   "language": "python",
   "name": "python3"
  },
  "language_info": {
   "codemirror_mode": {
    "name": "ipython",
    "version": 3
   },
   "file_extension": ".py",
   "mimetype": "text/x-python",
   "name": "python",
   "nbconvert_exporter": "python",
   "pygments_lexer": "ipython3",
   "version": "3.6.3"
  }
 },
 "nbformat": 4,
 "nbformat_minor": 2
}
